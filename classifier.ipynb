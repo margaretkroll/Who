{
 "cells": [
  {
   "cell_type": "code",
   "execution_count": 1,
   "metadata": {
    "colab": {
     "base_uri": "https://localhost:8080/",
     "height": 890
    },
    "colab_type": "code",
    "id": "QrF5uga3yoch",
    "outputId": "0af86704-6d27-4895-945b-1f73722cb68b"
   },
   "outputs": [
    {
     "name": "stdout",
     "output_type": "stream",
     "text": [
      "Requirement already satisfied: voila in /Users/Margaret/anaconda3/lib/python3.7/site-packages (0.1.21)\n",
      "Requirement already satisfied: pygments<3,>=2.4.1 in /Users/Margaret/anaconda3/lib/python3.7/site-packages (from voila) (2.5.2)\n",
      "Requirement already satisfied: nbconvert<6,>=5.5.0 in /Users/Margaret/anaconda3/lib/python3.7/site-packages (from voila) (5.6.1)\n",
      "Requirement already satisfied: jupyter-server<0.2.0,>=0.1.0 in /Users/Margaret/anaconda3/lib/python3.7/site-packages (from voila) (0.1.1)\n",
      "Requirement already satisfied: jupyterlab-pygments<0.2,>=0.1.0 in /Users/Margaret/anaconda3/lib/python3.7/site-packages (from voila) (0.1.0)\n",
      "Requirement already satisfied: async-generator in /Users/Margaret/anaconda3/lib/python3.7/site-packages (from voila) (1.10)\n",
      "Requirement already satisfied: nbformat>=4.4 in /Users/Margaret/anaconda3/lib/python3.7/site-packages (from nbconvert<6,>=5.5.0->voila) (5.0.4)\n",
      "Requirement already satisfied: jupyter-core in /Users/Margaret/anaconda3/lib/python3.7/site-packages (from nbconvert<6,>=5.5.0->voila) (4.6.1)\n",
      "Requirement already satisfied: defusedxml in /Users/Margaret/anaconda3/lib/python3.7/site-packages (from nbconvert<6,>=5.5.0->voila) (0.6.0)\n",
      "Requirement already satisfied: entrypoints>=0.2.2 in /Users/Margaret/anaconda3/lib/python3.7/site-packages (from nbconvert<6,>=5.5.0->voila) (0.3)\n",
      "Requirement already satisfied: jinja2>=2.4 in /Users/Margaret/anaconda3/lib/python3.7/site-packages (from nbconvert<6,>=5.5.0->voila) (2.11.1)\n",
      "Requirement already satisfied: pandocfilters>=1.4.1 in /Users/Margaret/anaconda3/lib/python3.7/site-packages (from nbconvert<6,>=5.5.0->voila) (1.4.2)\n",
      "Requirement already satisfied: bleach in /Users/Margaret/anaconda3/lib/python3.7/site-packages (from nbconvert<6,>=5.5.0->voila) (3.1.0)\n",
      "Requirement already satisfied: traitlets>=4.2 in /Users/Margaret/anaconda3/lib/python3.7/site-packages (from nbconvert<6,>=5.5.0->voila) (4.3.3)\n",
      "Requirement already satisfied: testpath in /Users/Margaret/anaconda3/lib/python3.7/site-packages (from nbconvert<6,>=5.5.0->voila) (0.4.4)\n",
      "Requirement already satisfied: mistune<2,>=0.8.1 in /Users/Margaret/anaconda3/lib/python3.7/site-packages (from nbconvert<6,>=5.5.0->voila) (0.8.4)\n",
      "Requirement already satisfied: tornado>=4 in /Users/Margaret/anaconda3/lib/python3.7/site-packages (from jupyter-server<0.2.0,>=0.1.0->voila) (6.0.3)\n",
      "Requirement already satisfied: terminado>=0.8.1 in /Users/Margaret/anaconda3/lib/python3.7/site-packages (from jupyter-server<0.2.0,>=0.1.0->voila) (0.8.3)\n",
      "Requirement already satisfied: pyzmq>=17 in /Users/Margaret/anaconda3/lib/python3.7/site-packages (from jupyter-server<0.2.0,>=0.1.0->voila) (18.1.1)\n",
      "Requirement already satisfied: prometheus-client in /Users/Margaret/anaconda3/lib/python3.7/site-packages (from jupyter-server<0.2.0,>=0.1.0->voila) (0.7.1)\n",
      "Requirement already satisfied: Send2Trash in /Users/Margaret/anaconda3/lib/python3.7/site-packages (from jupyter-server<0.2.0,>=0.1.0->voila) (1.5.0)\n",
      "Requirement already satisfied: ipython-genutils in /Users/Margaret/anaconda3/lib/python3.7/site-packages (from jupyter-server<0.2.0,>=0.1.0->voila) (0.2.0)\n",
      "Requirement already satisfied: ipykernel in /Users/Margaret/anaconda3/lib/python3.7/site-packages (from jupyter-server<0.2.0,>=0.1.0->voila) (5.1.4)\n",
      "Requirement already satisfied: jupyter-client>=5.3.1 in /Users/Margaret/anaconda3/lib/python3.7/site-packages (from jupyter-server<0.2.0,>=0.1.0->voila) (5.3.4)\n",
      "Requirement already satisfied: jsonschema!=2.5.0,>=2.4 in /Users/Margaret/anaconda3/lib/python3.7/site-packages (from nbformat>=4.4->nbconvert<6,>=5.5.0->voila) (3.2.0)\n",
      "Requirement already satisfied: MarkupSafe>=0.23 in /Users/Margaret/anaconda3/lib/python3.7/site-packages (from jinja2>=2.4->nbconvert<6,>=5.5.0->voila) (1.1.1)\n",
      "Requirement already satisfied: six>=1.9.0 in /Users/Margaret/anaconda3/lib/python3.7/site-packages (from bleach->nbconvert<6,>=5.5.0->voila) (1.14.0)\n",
      "Requirement already satisfied: webencodings in /Users/Margaret/anaconda3/lib/python3.7/site-packages (from bleach->nbconvert<6,>=5.5.0->voila) (0.5.1)\n",
      "Requirement already satisfied: decorator in /Users/Margaret/anaconda3/lib/python3.7/site-packages (from traitlets>=4.2->nbconvert<6,>=5.5.0->voila) (4.4.1)\n",
      "Requirement already satisfied: ipython>=5.0.0 in /Users/Margaret/anaconda3/lib/python3.7/site-packages (from ipykernel->jupyter-server<0.2.0,>=0.1.0->voila) (7.12.0)\n",
      "Requirement already satisfied: appnope; platform_system == \"Darwin\" in /Users/Margaret/anaconda3/lib/python3.7/site-packages (from ipykernel->jupyter-server<0.2.0,>=0.1.0->voila) (0.1.0)\n",
      "Requirement already satisfied: python-dateutil>=2.1 in /Users/Margaret/anaconda3/lib/python3.7/site-packages (from jupyter-client>=5.3.1->jupyter-server<0.2.0,>=0.1.0->voila) (2.8.1)\n",
      "Requirement already satisfied: importlib-metadata; python_version < \"3.8\" in /Users/Margaret/anaconda3/lib/python3.7/site-packages (from jsonschema!=2.5.0,>=2.4->nbformat>=4.4->nbconvert<6,>=5.5.0->voila) (1.5.0)\n",
      "Requirement already satisfied: setuptools in /Users/Margaret/anaconda3/lib/python3.7/site-packages (from jsonschema!=2.5.0,>=2.4->nbformat>=4.4->nbconvert<6,>=5.5.0->voila) (46.0.0.post20200309)\n",
      "Requirement already satisfied: attrs>=17.4.0 in /Users/Margaret/anaconda3/lib/python3.7/site-packages (from jsonschema!=2.5.0,>=2.4->nbformat>=4.4->nbconvert<6,>=5.5.0->voila) (19.3.0)\n",
      "Requirement already satisfied: pyrsistent>=0.14.0 in /Users/Margaret/anaconda3/lib/python3.7/site-packages (from jsonschema!=2.5.0,>=2.4->nbformat>=4.4->nbconvert<6,>=5.5.0->voila) (0.15.7)\n",
      "Requirement already satisfied: jedi>=0.10 in /Users/Margaret/anaconda3/lib/python3.7/site-packages (from ipython>=5.0.0->ipykernel->jupyter-server<0.2.0,>=0.1.0->voila) (0.14.1)\n",
      "Requirement already satisfied: prompt-toolkit!=3.0.0,!=3.0.1,<3.1.0,>=2.0.0 in /Users/Margaret/anaconda3/lib/python3.7/site-packages (from ipython>=5.0.0->ipykernel->jupyter-server<0.2.0,>=0.1.0->voila) (3.0.3)\n",
      "Requirement already satisfied: pexpect; sys_platform != \"win32\" in /Users/Margaret/anaconda3/lib/python3.7/site-packages (from ipython>=5.0.0->ipykernel->jupyter-server<0.2.0,>=0.1.0->voila) (4.8.0)\n",
      "Requirement already satisfied: pickleshare in /Users/Margaret/anaconda3/lib/python3.7/site-packages (from ipython>=5.0.0->ipykernel->jupyter-server<0.2.0,>=0.1.0->voila) (0.7.5)\n",
      "Requirement already satisfied: backcall in /Users/Margaret/anaconda3/lib/python3.7/site-packages (from ipython>=5.0.0->ipykernel->jupyter-server<0.2.0,>=0.1.0->voila) (0.1.0)\n",
      "Requirement already satisfied: zipp>=0.5 in /Users/Margaret/anaconda3/lib/python3.7/site-packages (from importlib-metadata; python_version < \"3.8\"->jsonschema!=2.5.0,>=2.4->nbformat>=4.4->nbconvert<6,>=5.5.0->voila) (2.2.0)\n",
      "Requirement already satisfied: parso>=0.5.0 in /Users/Margaret/anaconda3/lib/python3.7/site-packages (from jedi>=0.10->ipython>=5.0.0->ipykernel->jupyter-server<0.2.0,>=0.1.0->voila) (0.5.2)\n",
      "Requirement already satisfied: wcwidth in /Users/Margaret/anaconda3/lib/python3.7/site-packages (from prompt-toolkit!=3.0.0,!=3.0.1,<3.1.0,>=2.0.0->ipython>=5.0.0->ipykernel->jupyter-server<0.2.0,>=0.1.0->voila) (0.1.8)\n",
      "Requirement already satisfied: ptyprocess>=0.5 in /Users/Margaret/anaconda3/lib/python3.7/site-packages (from pexpect; sys_platform != \"win32\"->ipython>=5.0.0->ipykernel->jupyter-server<0.2.0,>=0.1.0->voila) (0.6.0)\n",
      "Enabling: voila\n",
      "- Writing config: /Users/Margaret/anaconda3/etc/jupyter\n",
      "    - Validating...\n",
      "      voila 0.1.21 \u001b[32mOK\u001b[0m\n"
     ]
    }
   ],
   "source": [
    "#!pip install voila\n",
    "#!jupyter serverextension enable voila --sys-prefix\n",
    "\n",
    "#!pip install fastai2>=0.0.11 graphviz ipywidgets matplotlib nbdev>=0.2.12 pandas scikit_learn azure-cognitiveservices-search-imagesearch sentencepiece\n",
    "\n",
    "#from utils import *\n",
    "from fastai2.vision.widgets import *\n",
    "\n",
    "#adrian code to add\n",
    "from fastai2.vision.all import *\n",
    "from nbdev.showdoc import *\n",
    "from ipywidgets import widgets\n",
    "from pandas.api.types import CategoricalDtype\n",
    "\n",
    "from fastai2.vision.all import *\n",
    "from fastai2.vision.widgets import *\n"
   ]
  },
  {
   "cell_type": "markdown",
   "metadata": {
    "colab_type": "text",
    "id": "p_F3mH20y2I9"
   },
   "source": [
    "Doctor Who?"
   ]
  },
  {
   "cell_type": "code",
   "execution_count": 12,
   "metadata": {
    "colab": {
     "base_uri": "https://localhost:8080/",
     "height": 388
    },
    "colab_type": "code",
    "id": "zuePn0mUy6Rd",
    "outputId": "661a7e26-5634-407f-f83a-6e353e06b4f3"
   },
   "outputs": [],
   "source": [
    "path = Path()\n",
    "learn_inf = load_learner(path/'export.pkl', cpu=True)\n",
    "btn_upload = widgets.FileUpload()\n",
    "out_pl = widgets.Output()\n",
    "lbl_pred = widgets.Label()"
   ]
  },
  {
   "cell_type": "code",
   "execution_count": 17,
   "metadata": {},
   "outputs": [],
   "source": [
    "btn_run = widgets.Button(description='Doctor Who?')"
   ]
  },
  {
   "cell_type": "code",
   "execution_count": 18,
   "metadata": {
    "colab": {},
    "colab_type": "code",
    "id": "Owp7v3ndy9au"
   },
   "outputs": [],
   "source": [
    "def on_click_classify(change):\n",
    "    img = PILImage.create(btn_upload.data[-1])\n",
    "    out_pl.clear_output()\n",
    "    with out_pl: display(img.to_thumb(128,128))\n",
    "    pred,pred_idx,probs = learn_inf.predict(img)\n",
    "    lbl_pred.value = f'Prediction: {pred}; Probability: {probs[pred_idx]:.04f}'\n",
    "    \n",
    "btn_run.on_click(on_click_classify)"
   ]
  },
  {
   "cell_type": "code",
   "execution_count": 19,
   "metadata": {
    "colab": {},
    "colab_type": "code",
    "id": "pQcsEPG9zGbp"
   },
   "outputs": [],
   "source": [
    "btn_upload = widgets.FileUpload()"
   ]
  },
  {
   "cell_type": "code",
   "execution_count": 24,
   "metadata": {
    "colab": {},
    "colab_type": "code",
    "id": "A2Zu1c2yzM8k",
    "scrolled": true
   },
   "outputs": [
    {
     "data": {
      "application/vnd.jupyter.widget-view+json": {
       "model_id": "5373c8f7e9364210a48816f5708a5679",
       "version_major": 2,
       "version_minor": 0
      },
      "text/plain": [
       "VBox(children=(Label(value='Select your Doctor!'), FileUpload(value={'47.ebjljbraizyktkxgjvli.png': {'metadata…"
      ]
     },
     "metadata": {},
     "output_type": "display_data"
    }
   ],
   "source": [
    "display(VBox([widgets.Label('Select your Doctor!'), btn_upload, btn_run, out_pl, lbl_pred]))"
   ]
  },
  {
   "cell_type": "code",
   "execution_count": null,
   "metadata": {},
   "outputs": [],
   "source": []
  }
 ],
 "metadata": {
  "colab": {
   "name": "classifier.ipynb",
   "provenance": []
  },
  "kernelspec": {
   "display_name": "Python 3",
   "language": "python",
   "name": "python3"
  },
  "language_info": {
   "codemirror_mode": {
    "name": "ipython",
    "version": 3
   },
   "file_extension": ".py",
   "mimetype": "text/x-python",
   "name": "python",
   "nbconvert_exporter": "python",
   "pygments_lexer": "ipython3",
   "version": "3.7.6"
  }
 },
 "nbformat": 4,
 "nbformat_minor": 1
}
